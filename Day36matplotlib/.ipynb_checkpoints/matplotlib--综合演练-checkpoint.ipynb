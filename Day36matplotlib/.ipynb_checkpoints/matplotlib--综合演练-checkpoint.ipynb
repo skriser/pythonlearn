{
 "cells": [
  {
   "cell_type": "code",
   "execution_count": 24,
   "metadata": {},
   "outputs": [],
   "source": [
    "from matplotlib import pyplot as plt\n",
    "import numpy as np\n",
    "from numpy import pi as PI\n",
    "plt.rcParams[\"font.sans-serif\"] = ['SimHei']\n",
    "plt.rcParams['axes.unicode_minus'] = False"
   ]
  },
  {
   "cell_type": "code",
   "execution_count": 2,
   "metadata": {
    "collapsed": true
   },
   "outputs": [
    {
     "data": {
      "text/plain": [
       "array([-3.14159265, -3.11695271, -3.09231277, -3.06767283, -3.04303288,\n",
       "       -3.01839294, -2.993753  , -2.96911306, -2.94447311, -2.91983317,\n",
       "       -2.89519323, -2.87055329, -2.84591335, -2.8212734 , -2.79663346,\n",
       "       -2.77199352, -2.74735358, -2.72271363, -2.69807369, -2.67343375,\n",
       "       -2.64879381, -2.62415386, -2.59951392, -2.57487398, -2.55023404,\n",
       "       -2.52559409, -2.50095415, -2.47631421, -2.45167427, -2.42703432,\n",
       "       -2.40239438, -2.37775444, -2.3531145 , -2.32847456, -2.30383461,\n",
       "       -2.27919467, -2.25455473, -2.22991479, -2.20527484, -2.1806349 ,\n",
       "       -2.15599496, -2.13135502, -2.10671507, -2.08207513, -2.05743519,\n",
       "       -2.03279525, -2.0081553 , -1.98351536, -1.95887542, -1.93423548,\n",
       "       -1.90959553, -1.88495559, -1.86031565, -1.83567571, -1.81103577,\n",
       "       -1.78639582, -1.76175588, -1.73711594, -1.712476  , -1.68783605,\n",
       "       -1.66319611, -1.63855617, -1.61391623, -1.58927628, -1.56463634,\n",
       "       -1.5399964 , -1.51535646, -1.49071651, -1.46607657, -1.44143663,\n",
       "       -1.41679669, -1.39215674, -1.3675168 , -1.34287686, -1.31823692,\n",
       "       -1.29359698, -1.26895703, -1.24431709, -1.21967715, -1.19503721,\n",
       "       -1.17039726, -1.14575732, -1.12111738, -1.09647744, -1.07183749,\n",
       "       -1.04719755, -1.02255761, -0.99791767, -0.97327772, -0.94863778,\n",
       "       -0.92399784, -0.8993579 , -0.87471795, -0.85007801, -0.82543807,\n",
       "       -0.80079813, -0.77615819, -0.75151824, -0.7268783 , -0.70223836,\n",
       "       -0.67759842, -0.65295847, -0.62831853, -0.60367859, -0.57903865,\n",
       "       -0.5543987 , -0.52975876, -0.50511882, -0.48047888, -0.45583893,\n",
       "       -0.43119899, -0.40655905, -0.38191911, -0.35727916, -0.33263922,\n",
       "       -0.30799928, -0.28335934, -0.2587194 , -0.23407945, -0.20943951,\n",
       "       -0.18479957, -0.16015963, -0.13551968, -0.11087974, -0.0862398 ,\n",
       "       -0.06159986, -0.03695991, -0.01231997,  0.01231997,  0.03695991,\n",
       "        0.06159986,  0.0862398 ,  0.11087974,  0.13551968,  0.16015963,\n",
       "        0.18479957,  0.20943951,  0.23407945,  0.2587194 ,  0.28335934,\n",
       "        0.30799928,  0.33263922,  0.35727916,  0.38191911,  0.40655905,\n",
       "        0.43119899,  0.45583893,  0.48047888,  0.50511882,  0.52975876,\n",
       "        0.5543987 ,  0.57903865,  0.60367859,  0.62831853,  0.65295847,\n",
       "        0.67759842,  0.70223836,  0.7268783 ,  0.75151824,  0.77615819,\n",
       "        0.80079813,  0.82543807,  0.85007801,  0.87471795,  0.8993579 ,\n",
       "        0.92399784,  0.94863778,  0.97327772,  0.99791767,  1.02255761,\n",
       "        1.04719755,  1.07183749,  1.09647744,  1.12111738,  1.14575732,\n",
       "        1.17039726,  1.19503721,  1.21967715,  1.24431709,  1.26895703,\n",
       "        1.29359698,  1.31823692,  1.34287686,  1.3675168 ,  1.39215674,\n",
       "        1.41679669,  1.44143663,  1.46607657,  1.49071651,  1.51535646,\n",
       "        1.5399964 ,  1.56463634,  1.58927628,  1.61391623,  1.63855617,\n",
       "        1.66319611,  1.68783605,  1.712476  ,  1.73711594,  1.76175588,\n",
       "        1.78639582,  1.81103577,  1.83567571,  1.86031565,  1.88495559,\n",
       "        1.90959553,  1.93423548,  1.95887542,  1.98351536,  2.0081553 ,\n",
       "        2.03279525,  2.05743519,  2.08207513,  2.10671507,  2.13135502,\n",
       "        2.15599496,  2.1806349 ,  2.20527484,  2.22991479,  2.25455473,\n",
       "        2.27919467,  2.30383461,  2.32847456,  2.3531145 ,  2.37775444,\n",
       "        2.40239438,  2.42703432,  2.45167427,  2.47631421,  2.50095415,\n",
       "        2.52559409,  2.55023404,  2.57487398,  2.59951392,  2.62415386,\n",
       "        2.64879381,  2.67343375,  2.69807369,  2.72271363,  2.74735358,\n",
       "        2.77199352,  2.79663346,  2.8212734 ,  2.84591335,  2.87055329,\n",
       "        2.89519323,  2.91983317,  2.94447311,  2.96911306,  2.993753  ,\n",
       "        3.01839294,  3.04303288,  3.06767283,  3.09231277,  3.11695271,\n",
       "        3.14159265])"
      ]
     },
     "execution_count": 2,
     "metadata": {},
     "output_type": "execute_result"
    }
   ],
   "source": [
    "# 从-pi 到pi平均取256个点\n",
    "X = np.linspace(-np.pi,np.pi,256,endpoint=True)\n",
    "X"
   ]
  },
  {
   "cell_type": "code",
   "execution_count": 6,
   "metadata": {
    "collapsed": true
   },
   "outputs": [
    {
     "data": {
      "text/plain": [
       "array([-1.22464680e-16, -2.46374492e-02, -4.92599411e-02, -7.38525275e-02,\n",
       "       -9.84002783e-02, -1.22888291e-01, -1.47301698e-01, -1.71625679e-01,\n",
       "       -1.95845467e-01, -2.19946358e-01, -2.43913720e-01, -2.67733003e-01,\n",
       "       -2.91389747e-01, -3.14869589e-01, -3.38158275e-01, -3.61241666e-01,\n",
       "       -3.84105749e-01, -4.06736643e-01, -4.29120609e-01, -4.51244057e-01,\n",
       "       -4.73093557e-01, -4.94655843e-01, -5.15917826e-01, -5.36866598e-01,\n",
       "       -5.57489439e-01, -5.77773831e-01, -5.97707459e-01, -6.17278221e-01,\n",
       "       -6.36474236e-01, -6.55283850e-01, -6.73695644e-01, -6.91698439e-01,\n",
       "       -7.09281308e-01, -7.26433574e-01, -7.43144825e-01, -7.59404917e-01,\n",
       "       -7.75203976e-01, -7.90532412e-01, -8.05380919e-01, -8.19740483e-01,\n",
       "       -8.33602385e-01, -8.46958211e-01, -8.59799851e-01, -8.72119511e-01,\n",
       "       -8.83909710e-01, -8.95163291e-01, -9.05873422e-01, -9.16033601e-01,\n",
       "       -9.25637660e-01, -9.34679767e-01, -9.43154434e-01, -9.51056516e-01,\n",
       "       -9.58381215e-01, -9.65124085e-01, -9.71281032e-01, -9.76848318e-01,\n",
       "       -9.81822563e-01, -9.86200747e-01, -9.89980213e-01, -9.93158666e-01,\n",
       "       -9.95734176e-01, -9.97705180e-01, -9.99070481e-01, -9.99829250e-01,\n",
       "       -9.99981027e-01, -9.99525720e-01, -9.98463604e-01, -9.96795325e-01,\n",
       "       -9.94521895e-01, -9.91644696e-01, -9.88165472e-01, -9.84086337e-01,\n",
       "       -9.79409768e-01, -9.74138602e-01, -9.68276041e-01, -9.61825643e-01,\n",
       "       -9.54791325e-01, -9.47177357e-01, -9.38988361e-01, -9.30229309e-01,\n",
       "       -9.20905518e-01, -9.11022649e-01, -9.00586702e-01, -8.89604013e-01,\n",
       "       -8.78081248e-01, -8.66025404e-01, -8.53443799e-01, -8.40344072e-01,\n",
       "       -8.26734175e-01, -8.12622371e-01, -7.98017227e-01, -7.82927610e-01,\n",
       "       -7.67362681e-01, -7.51331890e-01, -7.34844967e-01, -7.17911923e-01,\n",
       "       -7.00543038e-01, -6.82748855e-01, -6.64540179e-01, -6.45928062e-01,\n",
       "       -6.26923806e-01, -6.07538946e-01, -5.87785252e-01, -5.67674716e-01,\n",
       "       -5.47219547e-01, -5.26432163e-01, -5.05325184e-01, -4.83911424e-01,\n",
       "       -4.62203884e-01, -4.40215741e-01, -4.17960345e-01, -3.95451207e-01,\n",
       "       -3.72701992e-01, -3.49726511e-01, -3.26538713e-01, -3.03152674e-01,\n",
       "       -2.79582593e-01, -2.55842778e-01, -2.31947641e-01, -2.07911691e-01,\n",
       "       -1.83749518e-01, -1.59475791e-01, -1.35105247e-01, -1.10652682e-01,\n",
       "       -8.61329395e-02, -6.15609061e-02, -3.69514994e-02, -1.23196595e-02,\n",
       "        1.23196595e-02,  3.69514994e-02,  6.15609061e-02,  8.61329395e-02,\n",
       "        1.10652682e-01,  1.35105247e-01,  1.59475791e-01,  1.83749518e-01,\n",
       "        2.07911691e-01,  2.31947641e-01,  2.55842778e-01,  2.79582593e-01,\n",
       "        3.03152674e-01,  3.26538713e-01,  3.49726511e-01,  3.72701992e-01,\n",
       "        3.95451207e-01,  4.17960345e-01,  4.40215741e-01,  4.62203884e-01,\n",
       "        4.83911424e-01,  5.05325184e-01,  5.26432163e-01,  5.47219547e-01,\n",
       "        5.67674716e-01,  5.87785252e-01,  6.07538946e-01,  6.26923806e-01,\n",
       "        6.45928062e-01,  6.64540179e-01,  6.82748855e-01,  7.00543038e-01,\n",
       "        7.17911923e-01,  7.34844967e-01,  7.51331890e-01,  7.67362681e-01,\n",
       "        7.82927610e-01,  7.98017227e-01,  8.12622371e-01,  8.26734175e-01,\n",
       "        8.40344072e-01,  8.53443799e-01,  8.66025404e-01,  8.78081248e-01,\n",
       "        8.89604013e-01,  9.00586702e-01,  9.11022649e-01,  9.20905518e-01,\n",
       "        9.30229309e-01,  9.38988361e-01,  9.47177357e-01,  9.54791325e-01,\n",
       "        9.61825643e-01,  9.68276041e-01,  9.74138602e-01,  9.79409768e-01,\n",
       "        9.84086337e-01,  9.88165472e-01,  9.91644696e-01,  9.94521895e-01,\n",
       "        9.96795325e-01,  9.98463604e-01,  9.99525720e-01,  9.99981027e-01,\n",
       "        9.99829250e-01,  9.99070481e-01,  9.97705180e-01,  9.95734176e-01,\n",
       "        9.93158666e-01,  9.89980213e-01,  9.86200747e-01,  9.81822563e-01,\n",
       "        9.76848318e-01,  9.71281032e-01,  9.65124085e-01,  9.58381215e-01,\n",
       "        9.51056516e-01,  9.43154434e-01,  9.34679767e-01,  9.25637660e-01,\n",
       "        9.16033601e-01,  9.05873422e-01,  8.95163291e-01,  8.83909710e-01,\n",
       "        8.72119511e-01,  8.59799851e-01,  8.46958211e-01,  8.33602385e-01,\n",
       "        8.19740483e-01,  8.05380919e-01,  7.90532412e-01,  7.75203976e-01,\n",
       "        7.59404917e-01,  7.43144825e-01,  7.26433574e-01,  7.09281308e-01,\n",
       "        6.91698439e-01,  6.73695644e-01,  6.55283850e-01,  6.36474236e-01,\n",
       "        6.17278221e-01,  5.97707459e-01,  5.77773831e-01,  5.57489439e-01,\n",
       "        5.36866598e-01,  5.15917826e-01,  4.94655843e-01,  4.73093557e-01,\n",
       "        4.51244057e-01,  4.29120609e-01,  4.06736643e-01,  3.84105749e-01,\n",
       "        3.61241666e-01,  3.38158275e-01,  3.14869589e-01,  2.91389747e-01,\n",
       "        2.67733003e-01,  2.43913720e-01,  2.19946358e-01,  1.95845467e-01,\n",
       "        1.71625679e-01,  1.47301698e-01,  1.22888291e-01,  9.84002783e-02,\n",
       "        7.38525275e-02,  4.92599411e-02,  2.46374492e-02,  1.22464680e-16])"
      ]
     },
     "execution_count": 6,
     "metadata": {},
     "output_type": "execute_result"
    }
   ],
   "source": [
    "# 根据X的值，求正弦和余弦函数\n",
    "sin,cos = np.sin(X),np.cos(X)\n",
    "sin"
   ]
  },
  {
   "cell_type": "code",
   "execution_count": 58,
   "metadata": {},
   "outputs": [
    {
     "data": {
      "image/png": "[encoded data removed]",
      "text/plain": [
       "<matplotlib.figure.Figure at 0x26bf8c09c50>"
      ]
     },
     "metadata": {},
     "output_type": "display_data"
    }
   ],
   "source": [
    "# 绘制正弦\n",
    "plt.plot(X,sin,'b-',label='正弦',lw=2.5) # 简写用法，'b-'  表示颜色为蓝，-代表折线图\n",
    "plt.plot(X,cos,'r-',label='余弦',lw=2.5)\n",
    "\n",
    "# 将x轴和y轴同时放大1.5倍\n",
    "plt.xlim(X.min()*1.5,X.max()*1.5)\n",
    "plt.ylim(cos.min()*1.5,cos.max()*1.5)\n",
    "\n",
    "\n",
    "# 手动指定x轴和y轴的坐标刻度\n",
    "plt.xticks([-PI,-PI/2,0,PI/2,PI])\n",
    "plt.yticks([-1,0,1]) # Y轴3个坐标点\n",
    "\n",
    "# 替换X轴中的数字，保持PI为π,用后面符号代替前面的数字\n",
    "plt.xticks([-PI,-PI/2,0,PI/2,PI],[r'$-\\pi$',r'$-\\pi/2$',r'$0$',r'$+\\pi/2$',r'$+\\pi$',])# 第二个list里面的pi是matplotlib里面的跟numpy里面没有关系\n",
    "\n",
    "# 隐藏和移动坐标轴\n",
    "  # 1. 首先获取Axes对象\n",
    "ax = plt.gca()   # 重点是这个，拿到了里面的刻度内容\n",
    "\n",
    "    # 2.隐藏右边界和上边界\n",
    "ax.spines['right'].set_color('none')\n",
    "ax.spines['top'].set_color('none')\n",
    "\n",
    "    # 3.设置坐标轴刻度显示位置\n",
    "ax.xaxis.set_ticks_position('bottom')\n",
    "ax.yaxis.set_ticks_position('left')\n",
    "    # 4.先获取到下边界\n",
    "ax.spines['bottom'].set_position(('data',0))\n",
    "ax.spines['left'].set_position(('data',0))\n",
    "\n",
    "# 根据两点绘制一条虚线\n",
    "t=2*PI/3 # 先取一个数据点\n",
    "plt.plot([t,t],[0,np.cos(t)], color ='blue', linewidth=2.5, linestyle=\"--\")\n",
    "plt.plot([t,t],[0,np.sin(t)], color ='red', linewidth=2.5, linestyle=\"--\")\n",
    "\n",
    "# 用绘制散点图方法在正弦和余弦上分别标注一个点 （t,sin(t)）,(t,cos(t))\n",
    "plt.scatter(t,np.cos(t),50,color='blue') # j简略写法，size=50\n",
    "plt.scatter(t,np.sin(t),50,color='red')\n",
    "\n",
    "##### 为这个特殊点添加标注\n",
    "plt.annotate(r'$\\cos(\\frac{2\\pi}{3})=-\\frac{1}{2}$',\n",
    "xy=(t, np.cos(t)), xycoords='data',\n",
    "xytext=(-90, -50), textcoords='offset points', fontsize=16,\n",
    "arrowprops=dict(arrowstyle=\"->\", connectionstyle=\"arc3,rad=.2\"))\n",
    "plt.annotate(r'$\\cos(\\frac{2\\pi}{3})=-\\frac{\\sqrt{3}}{2}$',\n",
    "xy=(t, np.sin(t)), xycoords='data',\n",
    "xytext=(10, 30), textcoords='offset points', fontsize=16,\n",
    "arrowprops=dict(arrowstyle=\"->\", connectionstyle=\"arc3,rad=.2\"))\n",
    "\n",
    "# # 设置x,y轴的刻度，并设置字体\n",
    "for label in ax.get_xticklabels()+ax.get_yticklabels(): # 获取所有的刻度\n",
    "    label.set_fontsize(18)  # 对每一个刻度设置字体\n",
    "    label.set_bbox(dict(facecolor='r',edgecolor='m',alpha=0.4)) # 对每个刻度设置边框：facecolor:背景颜色，edgecolor边框颜色，alpha：透明度\n",
    "    \n",
    "\n",
    "#显示图例\n",
    "plt.legend(loc='upper left')\n",
    "plt.show()"
   ]
  },
  {
   "cell_type": "code",
   "execution_count": null,
   "metadata": {},
   "outputs": [],
   "source": []
  }
 ],
 "metadata": {
  "kernelspec": {
   "display_name": "Python 3",
   "language": "python",
   "name": "python3"
  },
  "language_info": {
   "codemirror_mode": {
    "name": "ipython",
    "version": 3
   },
   "file_extension": ".py",
   "mimetype": "text/x-python",
   "name": "python",
   "nbconvert_exporter": "python",
   "pygments_lexer": "ipython3",
   "version": "3.6.4"
  }
 },
 "nbformat": 4,
 "nbformat_minor": 2
}
