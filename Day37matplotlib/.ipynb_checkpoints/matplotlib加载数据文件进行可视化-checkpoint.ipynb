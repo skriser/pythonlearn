{
 "cells": [
  {
   "cell_type": "code",
   "execution_count": 11,
   "metadata": {},
   "outputs": [],
   "source": [
    "from matplotlib import pyplot as plt\n",
    "import numpy as np\n",
    "import csv\n",
    "import json \n",
    "import urllib"
   ]
  },
  {
   "cell_type": "code",
   "execution_count": 4,
   "metadata": {},
   "outputs": [],
   "source": [
    "#用来正常显示中文标签 \n",
    "plt.rcParams['font.sans-serif']=['SimHei'] \n",
    "#用来正常显示负号 \n",
    "plt.rcParams['axes.unicode_minus']=False"
   ]
  },
  {
   "cell_type": "code",
   "execution_count": 8,
   "metadata": {},
   "outputs": [
    {
     "data": {
      "image/png": "[encoded data removed]",
      "text/plain": [
       "<matplotlib.figure.Figure at 0x1dd60660160>"
      ]
     },
     "metadata": {},
     "output_type": "display_data"
    }
   ],
   "source": [
    "x,y = [], [] # 两个空列表用来保存x,y中的数据\n",
    "with open('csv/matplotlib-demo.csv') as csvFile:\n",
    "    plots = csv.reader(csvFile,delimiter=',')\n",
    "    for row in plots:\n",
    "        x.append(int(row[0]))\n",
    "        y.append(int(row[1]))\n",
    "    plt.plot(x,y,label='模拟数据')    \n",
    "    plt.xlabel('x')\n",
    "    plt.ylabel('y')\n",
    "    plt.legend()\n",
    "    plt.title('演示从文件中加载数据')\n",
    "    "
   ]
  },
  {
   "cell_type": "code",
   "execution_count": 12,
   "metadata": {},
   "outputs": [],
   "source": [
    "# 从网上加载数据\n",
    "url = 'https://api.douban.com/v2/book/1220562'\n",
    "source_code = urllib.request.urlopen(url).read().decode()"
   ]
  },
  {
   "cell_type": "code",
   "execution_count": 14,
   "metadata": {},
   "outputs": [
    {
     "data": {
      "text/plain": [
       "{'alt': 'https://book.douban.com/subject/1220562/',\n",
       " 'alt_title': '',\n",
       " 'author': ['[日] 片山恭一'],\n",
       " 'author_intro': '',\n",
       " 'binding': '平装',\n",
       " 'catalog': '\\n      ',\n",
       " 'id': '1220562',\n",
       " 'image': 'https://img3.doubanio.com/view/subject/m/public/s1747553.jpg',\n",
       " 'images': {'large': 'https://img3.doubanio.com/view/subject/l/public/s1747553.jpg',\n",
       "  'medium': 'https://img3.doubanio.com/view/subject/m/public/s1747553.jpg',\n",
       "  'small': 'https://img3.doubanio.com/view/subject/s/public/s1747553.jpg'},\n",
       " 'isbn10': '7543632608',\n",
       " 'isbn13': '9787543632608',\n",
       " 'origin_title': '',\n",
       " 'pages': '180',\n",
       " 'price': '15.00元',\n",
       " 'pubdate': '2005-1',\n",
       " 'publisher': '青岛出版社',\n",
       " 'rating': {'average': '7.3', 'max': 10, 'min': 0, 'numRaters': 373},\n",
       " 'subtitle': '',\n",
       " 'summary': '那一年，是听莫扎特、钓鲈鱼和家庭破裂的一年。说到家庭破裂，母亲怪自己当初没有找到好男人，父亲则认为当时是被狐狸精迷住了眼，失常的是母亲，但出问题的是父亲……。',\n",
       " 'tags': [{'count': 144, 'name': '片山恭一', 'title': '片山恭一'},\n",
       "  {'count': 70, 'name': '日本', 'title': '日本'},\n",
       "  {'count': 65, 'name': '日本文学', 'title': '日本文学'},\n",
       "  {'count': 40, 'name': '小说', 'title': '小说'},\n",
       "  {'count': 33, 'name': '满月之夜白鲸现', 'title': '满月之夜白鲸现'},\n",
       "  {'count': 17, 'name': '爱情', 'title': '爱情'},\n",
       "  {'count': 10, 'name': '純愛', 'title': '純愛'},\n",
       "  {'count': 9, 'name': '外国文学', 'title': '外国文学'}],\n",
       " 'title': '满月之夜白鲸现',\n",
       " 'translator': ['豫人'],\n",
       " 'url': 'https://api.douban.com/v2/book/1220562'}"
      ]
     },
     "execution_count": 14,
     "metadata": {},
     "output_type": "execute_result"
    }
   ],
   "source": [
    "# 将字符串结构的数据转化为python的字典\n",
    "data = json.loads(source_code)\n",
    "data"
   ]
  },
  {
   "cell_type": "code",
   "execution_count": null,
   "metadata": {},
   "outputs": [],
   "source": []
  }
 ],
 "metadata": {
  "kernelspec": {
   "display_name": "Python 3",
   "language": "python",
   "name": "python3"
  },
  "language_info": {
   "codemirror_mode": {
    "name": "ipython",
    "version": 3
   },
   "file_extension": ".py",
   "mimetype": "text/x-python",
   "name": "python",
   "nbconvert_exporter": "python",
   "pygments_lexer": "ipython3",
   "version": "3.6.4"
  }
 },
 "nbformat": 4,
 "nbformat_minor": 2
}
