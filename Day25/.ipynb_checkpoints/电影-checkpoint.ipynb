{
 "cells": [
  {
   "cell_type": "code",
   "execution_count": 1,
   "metadata": {},
   "outputs": [],
   "source": [
    "import tushare as ts"
   ]
  },
  {
   "cell_type": "code",
   "execution_count": 4,
   "metadata": {},
   "outputs": [
    {
     "name": "stdout",
     "output_type": "stream",
     "text": [
      "[Getting data:]####"
     ]
    }
   ],
   "source": [
    "all = ts.get_h_data('000001',start='2017-05-31',end='2018-05-30')"
   ]
  },
  {
   "cell_type": "code",
   "execution_count": 5,
   "metadata": {},
   "outputs": [],
   "source": [
    "close = all[\"close\"]"
   ]
  },
  {
   "cell_type": "code",
   "execution_count": 6,
   "metadata": {},
   "outputs": [],
   "source": [
    "x = all.index"
   ]
  },
  {
   "cell_type": "code",
   "execution_count": 9,
   "metadata": {},
   "outputs": [
    {
     "data": {
      "text/plain": [
       "date\n",
       "2018-05-30    112444704.0\n",
       "2018-05-29     88949497.0\n",
       "Name: volume, dtype: float64"
      ]
     },
     "execution_count": 9,
     "metadata": {},
     "output_type": "execute_result"
    }
   ],
   "source": [
    "all[:2].volume"
   ]
  },
  {
   "cell_type": "code",
   "execution_count": 14,
   "metadata": {},
   "outputs": [
    {
     "data": {
      "text/html": [
       "<div>\n",
       "<style scoped>\n",
       "    .dataframe tbody tr th:only-of-type {\n",
       "        vertical-align: middle;\n",
       "    }\n",
       "\n",
       "    .dataframe tbody tr th {\n",
       "        vertical-align: top;\n",
       "    }\n",
       "\n",
       "    .dataframe thead th {\n",
       "        text-align: right;\n",
       "    }\n",
       "</style>\n",
       "<table border=\"1\" class=\"dataframe\">\n",
       "  <thead>\n",
       "    <tr style=\"text-align: right;\">\n",
       "      <th></th>\n",
       "      <th>AvgPrice</th>\n",
       "      <th>AvpPeoPle</th>\n",
       "      <th>BoxOffice</th>\n",
       "      <th>BoxOffice_Up</th>\n",
       "      <th>IRank</th>\n",
       "      <th>MovieDay</th>\n",
       "      <th>MovieName</th>\n",
       "      <th>SumBoxOffice</th>\n",
       "      <th>WomIndex</th>\n",
       "    </tr>\n",
       "  </thead>\n",
       "  <tbody>\n",
       "    <tr>\n",
       "      <th>0</th>\n",
       "      <td>33</td>\n",
       "      <td>10</td>\n",
       "      <td>3020</td>\n",
       "      <td>-7</td>\n",
       "      <td>1</td>\n",
       "      <td>6</td>\n",
       "      <td>超时空同居</td>\n",
       "      <td>33744</td>\n",
       "      <td>6.94</td>\n",
       "    </tr>\n",
       "    <tr>\n",
       "      <th>1</th>\n",
       "      <td>37</td>\n",
       "      <td>6</td>\n",
       "      <td>2118</td>\n",
       "      <td>-16</td>\n",
       "      <td>2</td>\n",
       "      <td>13</td>\n",
       "      <td>复仇者联盟3：无限战争</td>\n",
       "      <td>200281</td>\n",
       "      <td>7.59</td>\n",
       "    </tr>\n",
       "    <tr>\n",
       "      <th>2</th>\n",
       "      <td>31</td>\n",
       "      <td>5</td>\n",
       "      <td>884</td>\n",
       "      <td>-14</td>\n",
       "      <td>3</td>\n",
       "      <td>6</td>\n",
       "      <td>寂静之地</td>\n",
       "      <td>14465</td>\n",
       "      <td>7.19</td>\n",
       "    </tr>\n",
       "    <tr>\n",
       "      <th>3</th>\n",
       "      <td>34</td>\n",
       "      <td>49</td>\n",
       "      <td>123</td>\n",
       "      <td>-19</td>\n",
       "      <td>4</td>\n",
       "      <td>19</td>\n",
       "      <td>青年马克思</td>\n",
       "      <td>1190</td>\n",
       "      <td>5.98</td>\n",
       "    </tr>\n",
       "    <tr>\n",
       "      <th>4</th>\n",
       "      <td>34</td>\n",
       "      <td>3</td>\n",
       "      <td>116</td>\n",
       "      <td>-3</td>\n",
       "      <td>5</td>\n",
       "      <td>26</td>\n",
       "      <td>后来的我们</td>\n",
       "      <td>134935</td>\n",
       "      <td>6.23</td>\n",
       "    </tr>\n",
       "    <tr>\n",
       "      <th>5</th>\n",
       "      <td>32</td>\n",
       "      <td>3</td>\n",
       "      <td>87</td>\n",
       "      <td>-5</td>\n",
       "      <td>6</td>\n",
       "      <td>6</td>\n",
       "      <td>昼颜</td>\n",
       "      <td>1043</td>\n",
       "      <td>6.92</td>\n",
       "    </tr>\n",
       "    <tr>\n",
       "      <th>6</th>\n",
       "      <td>32</td>\n",
       "      <td>5</td>\n",
       "      <td>48</td>\n",
       "      <td>0</td>\n",
       "      <td>7</td>\n",
       "      <td>41</td>\n",
       "      <td>狂暴巨兽</td>\n",
       "      <td>98570</td>\n",
       "      <td>6.96</td>\n",
       "    </tr>\n",
       "    <tr>\n",
       "      <th>7</th>\n",
       "      <td>30</td>\n",
       "      <td>4</td>\n",
       "      <td>20</td>\n",
       "      <td>-5</td>\n",
       "      <td>8</td>\n",
       "      <td>20</td>\n",
       "      <td>巴霍巴利王2：终结</td>\n",
       "      <td>7489</td>\n",
       "      <td>8.13</td>\n",
       "    </tr>\n",
       "    <tr>\n",
       "      <th>8</th>\n",
       "      <td>34</td>\n",
       "      <td>3</td>\n",
       "      <td>19</td>\n",
       "      <td>19</td>\n",
       "      <td>9</td>\n",
       "      <td>26</td>\n",
       "      <td>幕后玩家</td>\n",
       "      <td>35689</td>\n",
       "      <td>6.73</td>\n",
       "    </tr>\n",
       "    <tr>\n",
       "      <th>9</th>\n",
       "      <td>28</td>\n",
       "      <td>2</td>\n",
       "      <td>17</td>\n",
       "      <td>-11</td>\n",
       "      <td>10</td>\n",
       "      <td>13</td>\n",
       "      <td>我是你妈</td>\n",
       "      <td>3583</td>\n",
       "      <td>6.37</td>\n",
       "    </tr>\n",
       "  </tbody>\n",
       "</table>\n",
       "</div>"
      ],
      "text/plain": [
       "  AvgPrice AvpPeoPle BoxOffice BoxOffice_Up IRank MovieDay    MovieName  \\\n",
       "0       33        10      3020           -7     1        6        超时空同居   \n",
       "1       37         6      2118          -16     2       13  复仇者联盟3：无限战争   \n",
       "2       31         5       884          -14     3        6         寂静之地   \n",
       "3       34        49       123          -19     4       19        青年马克思   \n",
       "4       34         3       116           -3     5       26        后来的我们   \n",
       "5       32         3        87           -5     6        6           昼颜   \n",
       "6       32         5        48            0     7       41         狂暴巨兽   \n",
       "7       30         4        20           -5     8       20    巴霍巴利王2：终结   \n",
       "8       34         3        19           19     9       26         幕后玩家   \n",
       "9       28         2        17          -11    10       13         我是你妈   \n",
       "\n",
       "  SumBoxOffice WomIndex  \n",
       "0        33744     6.94  \n",
       "1       200281     7.59  \n",
       "2        14465     7.19  \n",
       "3         1190     5.98  \n",
       "4       134935     6.23  \n",
       "5         1043     6.92  \n",
       "6        98570     6.96  \n",
       "7         7489     8.13  \n",
       "8        35689     6.73  \n",
       "9         3583     6.37  "
      ]
     },
     "execution_count": 14,
     "metadata": {},
     "output_type": "execute_result"
    }
   ],
   "source": [
    "day = ts.day_boxoffice('2018-05-22') # 获取到最近十天的放映数据\n",
    "day"
   ]
  },
  {
   "cell_type": "code",
   "execution_count": null,
   "metadata": {},
   "outputs": [],
   "source": []
  }
 ],
 "metadata": {
  "kernelspec": {
   "display_name": "Python 3",
   "language": "python",
   "name": "python3"
  },
  "language_info": {
   "codemirror_mode": {
    "name": "ipython",
    "version": 3
   },
   "file_extension": ".py",
   "mimetype": "text/x-python",
   "name": "python",
   "nbconvert_exporter": "python",
   "pygments_lexer": "ipython3",
   "version": "3.6.4"
  }
 },
 "nbformat": 4,
 "nbformat_minor": 2
}
