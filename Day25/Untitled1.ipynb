{
 "cells": [
  {
   "cell_type": "code",
   "execution_count": 2,
   "metadata": {},
   "outputs": [],
   "source": [
    "import tushare as ts"
   ]
  },
  {
   "cell_type": "code",
   "execution_count": 3,
   "metadata": {},
   "outputs": [
    {
     "name": "stdout",
     "output_type": "stream",
     "text": [
      "   BoxOffice Irank    MovieName boxPer movieDay sumBoxOffice  \\\n",
      "0     996.13     1        超时空同居  44.34       13     57613.61   \n",
      "1     574.86     2  复仇者联盟3：无限战争  25.59       20    216327.88   \n",
      "2     228.62     3  游侠索罗：星球大战外传  10.18        6      7512.00   \n",
      "3     161.99     4         寂静之地   7.21       13     18711.62   \n",
      "4     156.97     5        完美陌生人   6.99        6      2514.35   \n",
      "5      24.98     6         狂暴巨兽   1.11       48     98944.77   \n",
      "6      23.19     7        青年马克思   1.03       26      1567.01   \n",
      "7      20.52     8        后来的我们   0.91       33    135368.29   \n",
      "8      16.55     9           昼颜   0.74       13      1299.12   \n",
      "9       6.45    10       西小河的夏天   0.29        6       116.86   \n",
      "10     36.33    11           其它   1.00        0         0.00   \n",
      "\n",
      "                   time  \n",
      "0   2018-05-30 17:45:24  \n",
      "1   2018-05-30 17:45:24  \n",
      "2   2018-05-30 17:45:24  \n",
      "3   2018-05-30 17:45:24  \n",
      "4   2018-05-30 17:45:24  \n",
      "5   2018-05-30 17:45:24  \n",
      "6   2018-05-30 17:45:24  \n",
      "7   2018-05-30 17:45:24  \n",
      "8   2018-05-30 17:45:24  \n",
      "9   2018-05-30 17:45:24  \n",
      "10  2018-05-30 17:45:24  \n"
     ]
    }
   ],
   "source": [
    "df = ts.realtime_boxoffice()\n",
    "print(df)"
   ]
  },
  {
   "cell_type": "code",
   "execution_count": null,
   "metadata": {},
   "outputs": [],
   "source": []
  }
 ],
 "metadata": {
  "kernelspec": {
   "display_name": "Python 3",
   "language": "python",
   "name": "python3"
  },
  "language_info": {
   "codemirror_mode": {
    "name": "ipython",
    "version": 3
   },
   "file_extension": ".py",
   "mimetype": "text/x-python",
   "name": "python",
   "nbconvert_exporter": "python",
   "pygments_lexer": "ipython3",
   "version": "3.6.4"
  }
 },
 "nbformat": 4,
 "nbformat_minor": 2
}
