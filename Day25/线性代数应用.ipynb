{
 "cells": [
  {
   "cell_type": "code",
   "execution_count": 1,
   "metadata": {},
   "outputs": [],
   "source": [
    "from scipy import linalg\n",
    "import numpy as np"
   ]
  },
  {
   "cell_type": "code",
   "execution_count": 2,
   "metadata": {},
   "outputs": [],
   "source": [
    "# 创建一个测试数组\n",
    "testarr = np.array([[2,4],[4,7]])"
   ]
  },
  {
   "cell_type": "code",
   "execution_count": 3,
   "metadata": {},
   "outputs": [
    {
     "data": {
      "text/plain": [
       "-2.0"
      ]
     },
     "execution_count": 3,
     "metadata": {},
     "output_type": "execute_result"
    }
   ],
   "source": [
    "result = linalg.det(testarr)\n",
    "result"
   ]
  },
  {
   "cell_type": "code",
   "execution_count": 5,
   "metadata": {},
   "outputs": [
    {
     "data": {
      "text/plain": [
       "array([[-3.5,  2. ],\n",
       "       [ 2. , -1. ]])"
      ]
     },
     "execution_count": 5,
     "metadata": {},
     "output_type": "execute_result"
    }
   ],
   "source": [
    "# 求逆矩阵\n",
    "testArr_ = linalg.inv(testarr)\n",
    "testArr_"
   ]
  },
  {
   "cell_type": "code",
   "execution_count": 7,
   "metadata": {},
   "outputs": [
    {
     "data": {
      "text/plain": [
       "matrix([[1., 0.],\n",
       "        [0., 1.]])"
      ]
     },
     "execution_count": 7,
     "metadata": {},
     "output_type": "execute_result"
    }
   ],
   "source": [
    "np.mat(testarr)*testArr_"
   ]
  },
  {
   "cell_type": "code",
   "execution_count": 9,
   "metadata": {},
   "outputs": [
    {
     "name": "stdout",
     "output_type": "stream",
     "text": [
      "U\n",
      " [[-0.48476853 -0.87464248]\n",
      " [-0.87464248  0.48476853]] sigma\n",
      " [9.21699057 0.21699057] V\n",
      " [[-0.48476853 -0.87464248]\n",
      " [ 0.87464248 -0.48476853]]\n"
     ]
    }
   ],
   "source": [
    "# 用scipy对矩阵进行svd分解,奇异值分解\n",
    "U,sigma,V= linalg.svd(testarr)\n",
    "print(\"U\\n\",U,\"sigma\\n\",sigma,\"V\\n\",V)"
   ]
  },
  {
   "cell_type": "code",
   "execution_count": 11,
   "metadata": {},
   "outputs": [
    {
     "name": "stdout",
     "output_type": "stream",
     "text": [
      "x=29.0,y=16.0,z=3.0\n"
     ]
    }
   ],
   "source": [
    "'''\n",
    "求方程\n",
    "'''\n",
    "A = np.mat(\"1 -2 1;0 2 -8;-4 5 9\")\n",
    "b = np.array([0,8,-9])\n",
    "X = linalg.solve(A,b)\n",
    "print(\"x={},y={},z={}\".format(X[0],X[1],X[2]))"
   ]
  },
  {
   "cell_type": "code",
   "execution_count": null,
   "metadata": {},
   "outputs": [],
   "source": [
    "\n"
   ]
  }
 ],
 "metadata": {
  "kernelspec": {
   "display_name": "Python 3",
   "language": "python",
   "name": "python3"
  },
  "language_info": {
   "codemirror_mode": {
    "name": "ipython",
    "version": 3
   },
   "file_extension": ".py",
   "mimetype": "text/x-python",
   "name": "python",
   "nbconvert_exporter": "python",
   "pygments_lexer": "ipython3",
   "version": "3.6.4"
  }
 },
 "nbformat": 4,
 "nbformat_minor": 2
}
