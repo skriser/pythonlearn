{
 "cells": [
  {
   "cell_type": "code",
   "execution_count": 1,
   "metadata": {},
   "outputs": [],
   "source": [
    "import tushare as ts"
   ]
  },
  {
   "cell_type": "code",
   "execution_count": 4,
   "metadata": {},
   "outputs": [
    {
     "name": "stdout",
     "output_type": "stream",
     "text": [
      "[Getting data:]####"
     ]
    }
   ],
   "source": [
    "all = ts.get_h_data('000001',start='2017-05-31',end='2018-05-30')"
   ]
  },
  {
   "cell_type": "code",
   "execution_count": 5,
   "metadata": {},
   "outputs": [],
   "source": [
    "close = all[\"close\"]"
   ]
  },
  {
   "cell_type": "code",
   "execution_count": 6,
   "metadata": {},
   "outputs": [],
   "source": [
    "x = all.index"
   ]
  },
  {
   "cell_type": "code",
   "execution_count": 9,
   "metadata": {},
   "outputs": [
    {
     "data": {
      "text/plain": [
       "date\n",
       "2018-05-30    112444704.0\n",
       "2018-05-29     88949497.0\n",
       "Name: volume, dtype: float64"
      ]
     },
     "execution_count": 9,
     "metadata": {},
     "output_type": "execute_result"
    }
   ],
   "source": [
    "all[:2].volume"
   ]
  },
  {
   "cell_type": "code",
   "execution_count": 18,
   "metadata": {},
   "outputs": [
    {
     "data": {
      "text/html": [
       "<div>\n",
       "<style scoped>\n",
       "    .dataframe tbody tr th:only-of-type {\n",
       "        vertical-align: middle;\n",
       "    }\n",
       "\n",
       "    .dataframe tbody tr th {\n",
       "        vertical-align: top;\n",
       "    }\n",
       "\n",
       "    .dataframe thead th {\n",
       "        text-align: right;\n",
       "    }\n",
       "</style>\n",
       "<table border=\"1\" class=\"dataframe\">\n",
       "  <thead>\n",
       "    <tr style=\"text-align: right;\">\n",
       "      <th></th>\n",
       "      <th>AvgPrice</th>\n",
       "      <th>AvpPeoPle</th>\n",
       "      <th>BoxOffice</th>\n",
       "      <th>BoxOffice_Up</th>\n",
       "      <th>IRank</th>\n",
       "      <th>MovieDay</th>\n",
       "      <th>MovieName</th>\n",
       "      <th>SumBoxOffice</th>\n",
       "      <th>WomIndex</th>\n",
       "    </tr>\n",
       "  </thead>\n",
       "  <tbody>\n",
       "    <tr>\n",
       "      <th>0</th>\n",
       "      <td>34</td>\n",
       "      <td>1</td>\n",
       "      <td>243</td>\n",
       "      <td>-88</td>\n",
       "      <td>1</td>\n",
       "      <td>14</td>\n",
       "      <td>超时空同居</td>\n",
       "      <td>58840</td>\n",
       "      <td></td>\n",
       "    </tr>\n",
       "    <tr>\n",
       "      <th>1</th>\n",
       "      <td>38</td>\n",
       "      <td>1</td>\n",
       "      <td>189</td>\n",
       "      <td>-82</td>\n",
       "      <td>2</td>\n",
       "      <td>21</td>\n",
       "      <td>复仇者联盟3：无限战争</td>\n",
       "      <td>216968</td>\n",
       "      <td></td>\n",
       "    </tr>\n",
       "    <tr>\n",
       "      <th>2</th>\n",
       "      <td>35</td>\n",
       "      <td>1</td>\n",
       "      <td>80</td>\n",
       "      <td>-81</td>\n",
       "      <td>3</td>\n",
       "      <td>7</td>\n",
       "      <td>游侠索罗：星球大战外传</td>\n",
       "      <td>7783</td>\n",
       "      <td></td>\n",
       "    </tr>\n",
       "    <tr>\n",
       "      <th>3</th>\n",
       "      <td>26</td>\n",
       "      <td>1</td>\n",
       "      <td>60</td>\n",
       "      <td>0</td>\n",
       "      <td>4</td>\n",
       "      <td>1</td>\n",
       "      <td>我的宠物恐龙</td>\n",
       "      <td>60</td>\n",
       "      <td></td>\n",
       "    </tr>\n",
       "    <tr>\n",
       "      <th>4</th>\n",
       "      <td>32</td>\n",
       "      <td>1</td>\n",
       "      <td>48</td>\n",
       "      <td>-82</td>\n",
       "      <td>5</td>\n",
       "      <td>7</td>\n",
       "      <td>完美陌生人</td>\n",
       "      <td>2670</td>\n",
       "      <td></td>\n",
       "    </tr>\n",
       "    <tr>\n",
       "      <th>5</th>\n",
       "      <td>31</td>\n",
       "      <td>1</td>\n",
       "      <td>43</td>\n",
       "      <td>-86</td>\n",
       "      <td>6</td>\n",
       "      <td>14</td>\n",
       "      <td>寂静之地</td>\n",
       "      <td>18897</td>\n",
       "      <td></td>\n",
       "    </tr>\n",
       "    <tr>\n",
       "      <th>6</th>\n",
       "      <td>20</td>\n",
       "      <td>33</td>\n",
       "      <td>20</td>\n",
       "      <td>-50</td>\n",
       "      <td>7</td>\n",
       "      <td>27</td>\n",
       "      <td>青年马克思</td>\n",
       "      <td>1604</td>\n",
       "      <td></td>\n",
       "    </tr>\n",
       "    <tr>\n",
       "      <th>7</th>\n",
       "      <td>33</td>\n",
       "      <td>37</td>\n",
       "      <td>8</td>\n",
       "      <td>0</td>\n",
       "      <td>8</td>\n",
       "      <td>91</td>\n",
       "      <td>厉害了，我的国</td>\n",
       "      <td>47902</td>\n",
       "      <td></td>\n",
       "    </tr>\n",
       "    <tr>\n",
       "      <th>8</th>\n",
       "      <td>33</td>\n",
       "      <td>1</td>\n",
       "      <td>6</td>\n",
       "      <td>-88</td>\n",
       "      <td>9</td>\n",
       "      <td>49</td>\n",
       "      <td>狂暴巨兽</td>\n",
       "      <td>98975</td>\n",
       "      <td></td>\n",
       "    </tr>\n",
       "    <tr>\n",
       "      <th>9</th>\n",
       "      <td>33</td>\n",
       "      <td>1</td>\n",
       "      <td>6</td>\n",
       "      <td>-70</td>\n",
       "      <td>10</td>\n",
       "      <td>14</td>\n",
       "      <td>昼颜</td>\n",
       "      <td>1308</td>\n",
       "      <td></td>\n",
       "    </tr>\n",
       "  </tbody>\n",
       "</table>\n",
       "</div>"
      ],
      "text/plain": [
       "  AvgPrice AvpPeoPle BoxOffice BoxOffice_Up IRank MovieDay    MovieName  \\\n",
       "0       34         1       243          -88     1       14        超时空同居   \n",
       "1       38         1       189          -82     2       21  复仇者联盟3：无限战争   \n",
       "2       35         1        80          -81     3        7  游侠索罗：星球大战外传   \n",
       "3       26         1        60            0     4        1       我的宠物恐龙   \n",
       "4       32         1        48          -82     5        7        完美陌生人   \n",
       "5       31         1        43          -86     6       14         寂静之地   \n",
       "6       20        33        20          -50     7       27        青年马克思   \n",
       "7       33        37         8            0     8       91      厉害了，我的国   \n",
       "8       33         1         6          -88     9       49         狂暴巨兽   \n",
       "9       33         1         6          -70    10       14           昼颜   \n",
       "\n",
       "  SumBoxOffice WomIndex  \n",
       "0        58840           \n",
       "1       216968           \n",
       "2         7783           \n",
       "3           60           \n",
       "4         2670           \n",
       "5        18897           \n",
       "6         1604           \n",
       "7        47902           \n",
       "8        98975           \n",
       "9         1308           "
      ]
     },
     "execution_count": 18,
     "metadata": {},
     "output_type": "execute_result"
    }
   ],
   "source": [
    "day = ts.day_boxoffice('2018-05-21') # 获取到最近十天的放映数据\n",
    "day"
   ]
  },
  {
   "cell_type": "code",
   "execution_count": null,
   "metadata": {},
   "outputs": [],
   "source": []
  }
 ],
 "metadata": {
  "kernelspec": {
   "display_name": "Python 3",
   "language": "python",
   "name": "python3"
  },
  "language_info": {
   "codemirror_mode": {
    "name": "ipython",
    "version": 3
   },
   "file_extension": ".py",
   "mimetype": "text/x-python",
   "name": "python",
   "nbconvert_exporter": "python",
   "pygments_lexer": "ipython3",
   "version": "3.6.4"
  }
 },
 "nbformat": 4,
 "nbformat_minor": 2
}
