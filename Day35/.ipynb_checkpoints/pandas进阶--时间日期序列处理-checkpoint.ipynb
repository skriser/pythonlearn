{
 "cells": [
  {
   "cell_type": "code",
   "execution_count": 15,
   "metadata": {},
   "outputs": [],
   "source": [
    "from pandas import Series,DataFrame\n",
    "import pandas as pd\n",
    "import numpy as np\n",
    "from datetime import datetime"
   ]
  },
  {
   "cell_type": "code",
   "execution_count": 2,
   "metadata": {},
   "outputs": [],
   "source": [
    "# 字符串形式的日期\n",
    "datestr = ['7-6-2011','8-6-2011']"
   ]
  },
  {
   "cell_type": "code",
   "execution_count": 3,
   "metadata": {},
   "outputs": [
    {
     "data": {
      "text/plain": [
       "DatetimeIndex(['2011-07-06', '2011-08-06'], dtype='datetime64[ns]', freq=None)"
      ]
     },
     "execution_count": 3,
     "metadata": {},
     "output_type": "execute_result"
    }
   ],
   "source": [
    "# 用pandas将字符串形式日期转换成时间序列\n",
    "pd.to_datetime(datestr)"
   ]
  },
  {
   "cell_type": "code",
   "execution_count": 7,
   "metadata": {},
   "outputs": [
    {
     "data": {
      "text/plain": [
       "DatetimeIndex(['2011-07-06', '2011-08-06', 'NaT'], dtype='datetime64[ns]', freq=None)"
      ]
     },
     "execution_count": 7,
     "metadata": {},
     "output_type": "execute_result"
    }
   ],
   "source": [
    "idx = pd.to_datetime(datestr+[None])\n",
    "idx\n",
    "# NaN not a number\n",
    "# NaT not a time"
   ]
  },
  {
   "cell_type": "code",
   "execution_count": 10,
   "metadata": {},
   "outputs": [
    {
     "data": {
      "text/plain": [
       "NaT"
      ]
     },
     "execution_count": 10,
     "metadata": {},
     "output_type": "execute_result"
    }
   ],
   "source": [
    "idx[2]"
   ]
  },
  {
   "cell_type": "code",
   "execution_count": 12,
   "metadata": {},
   "outputs": [
    {
     "data": {
      "text/plain": [
       "array([False, False,  True])"
      ]
     },
     "execution_count": 12,
     "metadata": {},
     "output_type": "execute_result"
    }
   ],
   "source": [
    "mask = pd.isnull(idx)\n",
    "mask"
   ]
  },
  {
   "cell_type": "code",
   "execution_count": 14,
   "metadata": {},
   "outputs": [
    {
     "data": {
      "text/plain": [
       "DatetimeIndex(['2011-07-06', '2011-08-06'], dtype='datetime64[ns]', freq=None)"
      ]
     },
     "execution_count": 14,
     "metadata": {},
     "output_type": "execute_result"
    }
   ],
   "source": [
    "idx[~mask]"
   ]
  },
  {
   "cell_type": "code",
   "execution_count": 19,
   "metadata": {},
   "outputs": [
    {
     "data": {
      "text/plain": [
       "[datetime.datetime(2011, 1, 2, 0, 0),\n",
       " datetime.datetime(2011, 1, 5, 0, 0),\n",
       " datetime.datetime(2011, 1, 7, 0, 0),\n",
       " datetime.datetime(2011, 1, 8, 0, 0),\n",
       " datetime.datetime(2011, 1, 10, 0, 0),\n",
       " datetime.datetime(2011, 1, 12, 0, 0)]"
      ]
     },
     "execution_count": 19,
     "metadata": {},
     "output_type": "execute_result"
    }
   ],
   "source": [
    "# 用pandas创建一组时间日期数据：\n",
    "dates = [datetime(2011,1,2),datetime(2011,1,5),datetime(2011,1,7),datetime(2011,1,8),datetime(2011,1,10),datetime(2011,1,12)]\n",
    "dates"
   ]
  },
  {
   "cell_type": "code",
   "execution_count": 17,
   "metadata": {},
   "outputs": [
    {
     "data": {
      "text/plain": [
       "2011-01-02    2.036718\n",
       "2011-01-05    2.166042\n",
       "2011-01-07   -0.312501\n",
       "2011-01-08    0.127661\n",
       "2011-01-10    1.411488\n",
       "2011-01-12    0.221776\n",
       "dtype: float64"
      ]
     },
     "execution_count": 17,
     "metadata": {},
     "output_type": "execute_result"
    }
   ],
   "source": [
    "ts = Series(np.random.randn(6),index=dates)\n",
    "ts"
   ]
  },
  {
   "cell_type": "code",
   "execution_count": 18,
   "metadata": {},
   "outputs": [
    {
     "data": {
      "text/plain": [
       "DatetimeIndex(['2011-01-02', '2011-01-05', '2011-01-07', '2011-01-08',\n",
       "               '2011-01-10', '2011-01-12'],\n",
       "              dtype='datetime64[ns]', freq=None)"
      ]
     },
     "execution_count": 18,
     "metadata": {},
     "output_type": "execute_result"
    }
   ],
   "source": [
    "ts.index"
   ]
  },
  {
   "cell_type": "code",
   "execution_count": 20,
   "metadata": {},
   "outputs": [
    {
     "data": {
      "text/plain": [
       "1.4114875710809716"
      ]
     },
     "execution_count": 20,
     "metadata": {},
     "output_type": "execute_result"
    }
   ],
   "source": [
    "ts['1/10/2011']"
   ]
  },
  {
   "cell_type": "code",
   "execution_count": 21,
   "metadata": {},
   "outputs": [
    {
     "data": {
      "text/plain": [
       "1.4114875710809716"
      ]
     },
     "execution_count": 21,
     "metadata": {},
     "output_type": "execute_result"
    }
   ],
   "source": [
    "ts['20110110']"
   ]
  },
  {
   "cell_type": "code",
   "execution_count": 22,
   "metadata": {},
   "outputs": [
    {
     "data": {
      "text/plain": [
       "2011-01-02    2.036718\n",
       "2011-01-05    2.166042\n",
       "2011-01-07   -0.312501\n",
       "2011-01-08    0.127661\n",
       "2011-01-10    1.411488\n",
       "2011-01-12    0.221776\n",
       "dtype: float64"
      ]
     },
     "execution_count": 22,
     "metadata": {},
     "output_type": "execute_result"
    }
   ],
   "source": [
    "ts['2011-1']"
   ]
  },
  {
   "cell_type": "code",
   "execution_count": 24,
   "metadata": {},
   "outputs": [
    {
     "data": {
      "text/plain": [
       "0.22177595049021853"
      ]
     },
     "execution_count": 24,
     "metadata": {},
     "output_type": "execute_result"
    }
   ],
   "source": [
    "ts['20110112']"
   ]
  },
  {
   "cell_type": "code",
   "execution_count": 32,
   "metadata": {
    "collapsed": true
   },
   "outputs": [
    {
     "data": {
      "text/plain": [
       "2000-01-01    0.410864\n",
       "2000-01-02   -1.398126\n",
       "2000-01-03    0.525091\n",
       "2000-01-04   -1.097645\n",
       "2000-01-05    0.995871\n",
       "2000-01-06    0.497850\n",
       "2000-01-07   -0.443476\n",
       "2000-01-08   -0.659073\n",
       "2000-01-09    0.806175\n",
       "2000-01-10    0.602941\n",
       "2000-01-11    1.003053\n",
       "2000-01-12    0.088293\n",
       "2000-01-13    0.838328\n",
       "2000-01-14    1.044688\n",
       "2000-01-15   -0.893214\n",
       "2000-01-16   -1.541580\n",
       "2000-01-17   -1.552122\n",
       "2000-01-18    0.041828\n",
       "2000-01-19   -0.694368\n",
       "2000-01-20    1.003897\n",
       "2000-01-21   -0.595770\n",
       "2000-01-22    0.317260\n",
       "2000-01-23   -0.098809\n",
       "2000-01-24    0.297439\n",
       "2000-01-25   -0.021115\n",
       "2000-01-26    0.781872\n",
       "2000-01-27    1.706013\n",
       "2000-01-28   -0.729103\n",
       "2000-01-29   -1.809776\n",
       "2000-01-30    1.171225\n",
       "                ...   \n",
       "2002-08-28    0.435922\n",
       "2002-08-29   -0.508795\n",
       "2002-08-30   -0.203353\n",
       "2002-08-31   -0.950158\n",
       "2002-09-01   -1.057597\n",
       "2002-09-02   -0.229895\n",
       "2002-09-03   -0.318224\n",
       "2002-09-04    0.798233\n",
       "2002-09-05   -0.750850\n",
       "2002-09-06   -1.096339\n",
       "2002-09-07   -0.166289\n",
       "2002-09-08    0.243698\n",
       "2002-09-09    0.434337\n",
       "2002-09-10    1.776257\n",
       "2002-09-11   -0.651147\n",
       "2002-09-12   -0.502119\n",
       "2002-09-13    0.184670\n",
       "2002-09-14   -1.851355\n",
       "2002-09-15    1.347749\n",
       "2002-09-16    1.108258\n",
       "2002-09-17   -2.495338\n",
       "2002-09-18   -1.007152\n",
       "2002-09-19    0.308423\n",
       "2002-09-20    0.214308\n",
       "2002-09-21    1.033487\n",
       "2002-09-22    0.858073\n",
       "2002-09-23    0.021489\n",
       "2002-09-24   -0.582743\n",
       "2002-09-25   -0.602059\n",
       "2002-09-26    0.906494\n",
       "Freq: D, Length: 1000, dtype: float64"
      ]
     },
     "execution_count": 32,
     "metadata": {},
     "output_type": "execute_result"
    }
   ],
   "source": [
    "#通过pd.date_range()方法创建一组时间日期序列\n",
    "long_str = Series(np.random.randn(1000),index=pd.date_range(\"1/1/2000\",periods=1000))\n",
    "long_str"
   ]
  },
  {
   "cell_type": "code",
   "execution_count": 31,
   "metadata": {
    "collapsed": true
   },
   "outputs": [
    {
     "data": {
      "text/plain": [
       "2001-12-01    1.508399\n",
       "2001-12-02   -0.253353\n",
       "2001-12-03    0.656978\n",
       "2001-12-04   -0.009118\n",
       "2001-12-05   -0.033261\n",
       "2001-12-06   -0.229324\n",
       "2001-12-07   -0.403083\n",
       "2001-12-08    0.062626\n",
       "2001-12-09    1.178826\n",
       "2001-12-10   -3.319067\n",
       "2001-12-11   -0.438174\n",
       "2001-12-12    0.223807\n",
       "2001-12-13    2.102218\n",
       "2001-12-14    1.036141\n",
       "2001-12-15   -1.207578\n",
       "2001-12-16   -0.465882\n",
       "2001-12-17    0.165804\n",
       "2001-12-18    0.335999\n",
       "2001-12-19    0.057009\n",
       "2001-12-20    0.166959\n",
       "2001-12-21   -0.537766\n",
       "2001-12-22   -0.250680\n",
       "2001-12-23   -0.506143\n",
       "2001-12-24   -0.730670\n",
       "2001-12-25    0.465316\n",
       "2001-12-26   -0.164943\n",
       "2001-12-27   -1.662996\n",
       "2001-12-28   -1.537429\n",
       "2001-12-29   -0.936613\n",
       "2001-12-30    0.138762\n",
       "2001-12-31    0.611695\n",
       "Freq: D, dtype: float64"
      ]
     },
     "execution_count": 31,
     "metadata": {},
     "output_type": "execute_result"
    }
   ],
   "source": [
    "# 获取某一年的所有数据\n",
    "long_str['2001']\n",
    "# 获取某一个月的所有数据\n",
    "long_str['2001-12']"
   ]
  },
  {
   "cell_type": "code",
   "execution_count": 34,
   "metadata": {},
   "outputs": [
    {
     "data": {
      "text/plain": [
       "DatetimeIndex(['2012-04-01', '2012-04-02', '2012-04-03', '2012-04-04',\n",
       "               '2012-04-05', '2012-04-06', '2012-04-07', '2012-04-08',\n",
       "               '2012-04-09', '2012-04-10', '2012-04-11', '2012-04-12',\n",
       "               '2012-04-13', '2012-04-14', '2012-04-15', '2012-04-16',\n",
       "               '2012-04-17', '2012-04-18', '2012-04-19', '2012-04-20',\n",
       "               '2012-04-21', '2012-04-22', '2012-04-23', '2012-04-24',\n",
       "               '2012-04-25', '2012-04-26', '2012-04-27', '2012-04-28',\n",
       "               '2012-04-29', '2012-04-30', '2012-05-01', '2012-05-02',\n",
       "               '2012-05-03', '2012-05-04', '2012-05-05', '2012-05-06',\n",
       "               '2012-05-07', '2012-05-08', '2012-05-09', '2012-05-10',\n",
       "               '2012-05-11', '2012-05-12', '2012-05-13', '2012-05-14',\n",
       "               '2012-05-15', '2012-05-16', '2012-05-17', '2012-05-18',\n",
       "               '2012-05-19', '2012-05-20', '2012-05-21', '2012-05-22',\n",
       "               '2012-05-23', '2012-05-24', '2012-05-25', '2012-05-26',\n",
       "               '2012-05-27', '2012-05-28', '2012-05-29', '2012-05-30',\n",
       "               '2012-05-31', '2012-06-01'],\n",
       "              dtype='datetime64[ns]', freq='D')"
      ]
     },
     "execution_count": 34,
     "metadata": {},
     "output_type": "execute_result"
    }
   ],
   "source": [
    "# 创建指定时间范围\n",
    "index = pd.date_range('4/1/2012','6/1/2012')\n",
    "index"
   ]
  },
  {
   "cell_type": "code",
   "execution_count": 36,
   "metadata": {},
   "outputs": [
    {
     "data": {
      "text/plain": [
       "DatetimeIndex(['2012-04-01', '2012-04-02', '2012-04-03', '2012-04-04',\n",
       "               '2012-04-05', '2012-04-06', '2012-04-07', '2012-04-08',\n",
       "               '2012-04-09', '2012-04-10', '2012-04-11', '2012-04-12',\n",
       "               '2012-04-13', '2012-04-14', '2012-04-15', '2012-04-16',\n",
       "               '2012-04-17', '2012-04-18', '2012-04-19', '2012-04-20'],\n",
       "              dtype='datetime64[ns]', freq='D')"
      ]
     },
     "execution_count": 36,
     "metadata": {},
     "output_type": "execute_result"
    }
   ],
   "source": [
    "# 指定pd.date_range()的开始和结束日期创建时间日期序列\n",
    "dataindex = pd.date_range(start=\"4/1/2012\",periods=20) # 以2012年4月1日开始向后生产\n",
    "dataindex"
   ]
  },
  {
   "cell_type": "code",
   "execution_count": 37,
   "metadata": {},
   "outputs": [
    {
     "data": {
      "text/plain": [
       "DatetimeIndex(['2012-03-13', '2012-03-14', '2012-03-15', '2012-03-16',\n",
       "               '2012-03-17', '2012-03-18', '2012-03-19', '2012-03-20',\n",
       "               '2012-03-21', '2012-03-22', '2012-03-23', '2012-03-24',\n",
       "               '2012-03-25', '2012-03-26', '2012-03-27', '2012-03-28',\n",
       "               '2012-03-29', '2012-03-30', '2012-03-31', '2012-04-01'],\n",
       "              dtype='datetime64[ns]', freq='D')"
      ]
     },
     "execution_count": 37,
     "metadata": {},
     "output_type": "execute_result"
    }
   ],
   "source": [
    "dateindex = pd.date_range(end='4/1/2012',periods=20)# 以2012年4月1日结束向前生产\n",
    "dateindex"
   ]
  },
  {
   "cell_type": "code",
   "execution_count": null,
   "metadata": {},
   "outputs": [],
   "source": []
  }
 ],
 "metadata": {
  "kernelspec": {
   "display_name": "Python 3",
   "language": "python",
   "name": "python3"
  },
  "language_info": {
   "codemirror_mode": {
    "name": "ipython",
    "version": 3
   },
   "file_extension": ".py",
   "mimetype": "text/x-python",
   "name": "python",
   "nbconvert_exporter": "python",
   "pygments_lexer": "ipython3",
   "version": "3.6.4"
  }
 },
 "nbformat": 4,
 "nbformat_minor": 2
}
