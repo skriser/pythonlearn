{
 "cells": [
  {
   "cell_type": "code",
   "execution_count": 2,
   "metadata": {},
   "outputs": [],
   "source": [
    "from pandas import Series,DataFrame\n",
    "import pandas as pd\n",
    "import numpy as np"
   ]
  },
  {
   "cell_type": "code",
   "execution_count": 5,
   "metadata": {},
   "outputs": [
    {
     "data": {
      "text/html": [
       "<div>\n",
       "<style scoped>\n",
       "    .dataframe tbody tr th:only-of-type {\n",
       "        vertical-align: middle;\n",
       "    }\n",
       "\n",
       "    .dataframe tbody tr th {\n",
       "        vertical-align: top;\n",
       "    }\n",
       "\n",
       "    .dataframe thead th {\n",
       "        text-align: right;\n",
       "    }\n",
       "</style>\n",
       "<table border=\"1\" class=\"dataframe\">\n",
       "  <thead>\n",
       "    <tr style=\"text-align: right;\">\n",
       "      <th></th>\n",
       "      <th>num</th>\n",
       "      <th>title</th>\n",
       "      <th>director</th>\n",
       "      <th>role</th>\n",
       "      <th>init_year</th>\n",
       "      <th>area</th>\n",
       "      <th>genre</th>\n",
       "      <th>rating_num</th>\n",
       "      <th>comment_num</th>\n",
       "      <th>comment</th>\n",
       "      <th>url</th>\n",
       "    </tr>\n",
       "  </thead>\n",
       "  <tbody>\n",
       "    <tr>\n",
       "      <th>0</th>\n",
       "      <td>1</td>\n",
       "      <td>肖申克的救赎</td>\n",
       "      <td>弗兰克·德拉邦特 Frank Darabont</td>\n",
       "      <td>蒂姆·罗宾斯 Tim Robbins</td>\n",
       "      <td>1994</td>\n",
       "      <td>美国</td>\n",
       "      <td>['犯罪 剧情']</td>\n",
       "      <td>9.6</td>\n",
       "      <td>964842</td>\n",
       "      <td>希望让人自由。</td>\n",
       "      <td>https://movie.douban.com/subject/1292052/</td>\n",
       "    </tr>\n",
       "    <tr>\n",
       "      <th>1</th>\n",
       "      <td>2</td>\n",
       "      <td>霸王别姬</td>\n",
       "      <td>陈凯歌 Kaige Chen</td>\n",
       "      <td>张国荣 Leslie Cheung</td>\n",
       "      <td>1993</td>\n",
       "      <td>中国大陆 香港</td>\n",
       "      <td>['剧情 爱情 同性']</td>\n",
       "      <td>9.5</td>\n",
       "      <td>699930</td>\n",
       "      <td>风华绝代。</td>\n",
       "      <td>https://movie.douban.com/subject/1291546/</td>\n",
       "    </tr>\n",
       "    <tr>\n",
       "      <th>2</th>\n",
       "      <td>3</td>\n",
       "      <td>这个杀手不太冷</td>\n",
       "      <td>吕克·贝松 Luc Besson</td>\n",
       "      <td>让·雷诺 Jean Reno</td>\n",
       "      <td>1994</td>\n",
       "      <td>法国</td>\n",
       "      <td>['剧情 动作 犯罪']</td>\n",
       "      <td>9.4</td>\n",
       "      <td>912435</td>\n",
       "      <td>怪蜀黍和小萝莉不得不说的故事。</td>\n",
       "      <td>https://movie.douban.com/subject/1295644/</td>\n",
       "    </tr>\n",
       "  </tbody>\n",
       "</table>\n",
       "</div>"
      ],
      "text/plain": [
       "   num    title                 director                 role init_year  \\\n",
       "0    1   肖申克的救赎  弗兰克·德拉邦特 Frank Darabont  蒂姆·罗宾斯 Tim Robbins       1994   \n",
       "1    2     霸王别姬           陈凯歌 Kaige Chen   张国荣 Leslie Cheung       1993   \n",
       "2    3  这个杀手不太冷         吕克·贝松 Luc Besson      让·雷诺 Jean Reno       1994   \n",
       "\n",
       "      area         genre  rating_num  comment_num          comment  \\\n",
       "0       美国     ['犯罪 剧情']         9.6       964842          希望让人自由。   \n",
       "1  中国大陆 香港  ['剧情 爱情 同性']         9.5       699930            风华绝代。   \n",
       "2       法国  ['剧情 动作 犯罪']         9.4       912435  怪蜀黍和小萝莉不得不说的故事。   \n",
       "\n",
       "                                         url  \n",
       "0  https://movie.douban.com/subject/1292052/  \n",
       "1  https://movie.douban.com/subject/1291546/  \n",
       "2  https://movie.douban.com/subject/1295644/  "
      ]
     },
     "execution_count": 5,
     "metadata": {},
     "output_type": "execute_result"
    }
   ],
   "source": [
    "# 加载数据\n",
    "df_1 = pd.read_csv('csv/top250_f1.csv',sep='#')\n",
    "# 查看加载的数据 前三行\n",
    "df_1.head(3)"
   ]
  },
  {
   "cell_type": "code",
   "execution_count": null,
   "metadata": {},
   "outputs": [],
   "source": []
  }
 ],
 "metadata": {
  "kernelspec": {
   "display_name": "Python 3",
   "language": "python",
   "name": "python3"
  },
  "language_info": {
   "codemirror_mode": {
    "name": "ipython",
    "version": 3
   },
   "file_extension": ".py",
   "mimetype": "text/x-python",
   "name": "python",
   "nbconvert_exporter": "python",
   "pygments_lexer": "ipython3",
   "version": "3.6.4"
  }
 },
 "nbformat": 4,
 "nbformat_minor": 2
}
